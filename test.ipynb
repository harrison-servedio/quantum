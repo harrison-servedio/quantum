{
 "cells": [
  {
   "cell_type": "code",
   "execution_count": 17,
   "metadata": {},
   "outputs": [],
   "source": [
    "from qiskit import transpile\n",
    "from qiskit.visualization import plot_histogram\n",
    "from qiskit_aer import AerSimulator\n",
    "from qiskit import QuantumRegister, ClassicalRegister, QuantumCircuit"
   ]
  },
  {
   "cell_type": "code",
   "execution_count": 25,
   "metadata": {},
   "outputs": [
    {
     "name": "stdout",
     "output_type": "stream",
     "text": [
      "                                                 \n",
      "q_0: ──■────■──────────────■─────────────────────\n",
      "       │  ┌─┴─┐          ┌─┴─┐                   \n",
      "q_1: ──■──┤ X ├──■────■──┤ X ├───────────────────\n",
      "       │  └───┘  │  ┌─┴─┐└───┘┌─┐                \n",
      "q_2: ──┼─────────■──┤ X ├─────┤M├────────────────\n",
      "     ┌─┴─┐     ┌─┴─┐└───┘┌───┐└╥┘     ┌─┐        \n",
      "q_3: ┤ X ├─────┤ X ├──■──┤ X ├─╫──────┤M├────────\n",
      "     ├───┤     └───┘  │  └─┬─┘ ║      └╥┘        \n",
      "q_4: ┤ X ├──■────■────┼────┼───╫───■───╫─────────\n",
      "     ├───┤  │  ┌─┴─┐  │    │   ║ ┌─┴─┐ ║         \n",
      "q_5: ┤ X ├──■──┤ X ├──■────■───╫─┤ X ├─╫─────────\n",
      "     └───┘┌─┴─┐└───┘┌─┴─┐      ║ ├───┤ ║      ┌─┐\n",
      "q_6: ─────┤ X ├─────┤ X ├──■───╫─┤ X ├─╫──────┤M├\n",
      "     ┌───┐└───┘     └───┘  │   ║ └─┬─┘ ║      └╥┘\n",
      "q_7: ┤ X ├──■────■─────────┼───╫───┼───╫───■───╫─\n",
      "     ├───┤  │  ┌─┴─┐       │   ║   │   ║ ┌─┴─┐ ║ \n",
      "q_8: ┤ X ├──■──┤ X ├───────■───╫───■───╫─┤ X ├─╫─\n",
      "     └───┘┌─┴─┐└───┘     ┌─┴─┐ ║  ┌─┐  ║ └───┘ ║ \n",
      "q_9: ─────┤ X ├──────────┤ X ├─╫──┤M├──╫───────╫─\n",
      "          └───┘          └───┘ ║  └╥┘  ║       ║ \n",
      "c: 4/══════════════════════════╩═══╩═══╩═══════╩═\n",
      "                               0   3   1       2 \n"
     ]
    }
   ],
   "source": [
    "from qiskit import QuantumRegister, ClassicalRegister, QuantumCircuit\n",
    "from numpy import pi\n",
    "\n",
    "qreg_q = QuantumRegister(10, 'q')\n",
    "creg_c = ClassicalRegister(4, 'c')\n",
    "circuit = QuantumCircuit(qreg_q, creg_c)\n",
    "\n",
    "\n",
    "# Registers to edit - least significant digit\n",
    "# circuit.x(qreg_q[0])\n",
    "# circuit.x(qreg_q[1])\n",
    "\n",
    "# Registers to edit - second least significant digit\n",
    "circuit.x(qreg_q[4])\n",
    "circuit.x(qreg_q[5])\n",
    "\n",
    "# Registers to edit - third least significant digit\n",
    "circuit.x(qreg_q[7])\n",
    "circuit.x(qreg_q[8])\n",
    "\n",
    "# Digit 1 - 0\n",
    "# Digit 2 - 1\n",
    "# Carry in/Sum - 2\n",
    "# Carry out - 3\n",
    "d1 = 0\n",
    "d2 = 1\n",
    "s = 2\n",
    "cOut = 3\n",
    "circuit.ccx(qreg_q[d1], qreg_q[d2], qreg_q[cOut])\n",
    "circuit.cx(qreg_q[d1], qreg_q[d2])\n",
    "circuit.ccx(qreg_q[d2], qreg_q[s], qreg_q[cOut])\n",
    "circuit.cx(qreg_q[d2], qreg_q[s])\n",
    "circuit.cx(qreg_q[d1], qreg_q[d2])\n",
    "\n",
    "\n",
    "# Digit 1 - 4\n",
    "# Digit 2 - 5\n",
    "# Carry in/Sum - 3\n",
    "# Carry out - 6\n",
    "d1 = 4\n",
    "d2 = 5\n",
    "s = 3\n",
    "cOut = 6\n",
    "circuit.ccx(qreg_q[d1], qreg_q[d2], qreg_q[cOut])\n",
    "circuit.cx(qreg_q[d1], qreg_q[d2])\n",
    "circuit.ccx(qreg_q[d2], qreg_q[s], qreg_q[cOut])\n",
    "circuit.cx(qreg_q[d2], qreg_q[s])\n",
    "circuit.cx(qreg_q[d1], qreg_q[d2])\n",
    "\n",
    "# Digit 1 - 7\n",
    "# Digit 2 - 8\n",
    "# Carry in/Sum - 6\n",
    "# Carry out - 9\n",
    "d1 = 7\n",
    "d2 = 8\n",
    "s = 6\n",
    "cOut = 9\n",
    "circuit.ccx(qreg_q[d1], qreg_q[d2], qreg_q[cOut])\n",
    "circuit.cx(qreg_q[d1], qreg_q[d2])\n",
    "circuit.ccx(qreg_q[d2], qreg_q[s], qreg_q[cOut])\n",
    "circuit.cx(qreg_q[d2], qreg_q[s])\n",
    "circuit.cx(qreg_q[d1], qreg_q[d2])\n",
    "\n",
    "circuit.measure(qreg_q[9], creg_c[3])\n",
    "circuit.measure(qreg_q[6], creg_c[2])\n",
    "circuit.measure(qreg_q[3], creg_c[1])\n",
    "circuit.measure(qreg_q[2], creg_c[0])\n",
    "\n",
    "print(circuit)"
   ]
  },
  {
   "cell_type": "code",
   "execution_count": 26,
   "metadata": {},
   "outputs": [
    {
     "data": {
      "image/png": "[encoded data removed]",
      "text/plain": [
       "<Figure size 640x480 with 1 Axes>"
      ]
     },
     "execution_count": 26,
     "metadata": {},
     "output_type": "execute_result"
    }
   ],
   "source": [
    "from qiskit import transpile\n",
    "from qiskit.visualization import plot_histogram\n",
    "from qiskit_aer import AerSimulator\n",
    "\n",
    "\n",
    "simulator = AerSimulator()\n",
    "circ = transpile(circuit, simulator)\n",
    "# Run and get counts \n",
    "result = simulator.run(circ).result()\n",
    "counts = result.get_counts(circ)\n",
    "plot_histogram(counts)"
   ]
  }
 ],
 "metadata": {
  "kernelspec": {
   "display_name": "Python 3 (ipykernel)",
   "language": "python",
   "name": "python3"
  },
  "language_info": {
   "codemirror_mode": {
    "name": "ipython",
    "version": 3
   },
   "file_extension": ".py",
   "mimetype": "text/x-python",
   "name": "python",
   "nbconvert_exporter": "python",
   "pygments_lexer": "ipython3",
   "version": "3.12.3"
  }
 },
 "nbformat": 4,
 "nbformat_minor": 2
}
