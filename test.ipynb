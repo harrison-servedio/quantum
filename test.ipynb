{
 "cells": [
  {
   "cell_type": "code",
   "execution_count": 1,
   "metadata": {},
   "outputs": [],
   "source": [
    "from qiskit import transpile\n",
    "from qiskit.visualization import plot_histogram\n",
    "from qiskit_aer import AerSimulator\n",
    "from qiskit import QuantumRegister, ClassicalRegister, QuantumCircuit"
   ]
  },
  {
   "cell_type": "code",
   "execution_count": 14,
   "metadata": {},
   "outputs": [
    {
     "data": {
      "text/plain": [
       "<qiskit.circuit.instructionset.InstructionSet at 0x1fdf38b2d70>"
      ]
     },
     "execution_count": 14,
     "metadata": {},
     "output_type": "execute_result"
    }
   ],
   "source": [
    "from qiskit import QuantumRegister, ClassicalRegister, QuantumCircuit\n",
    "from numpy import pi\n",
    "\n",
    "qreg_q = QuantumRegister(7, 'q')\n",
    "creg_c = ClassicalRegister(3, 'c')\n",
    "circuit = QuantumCircuit(qreg_q, creg_c)\n",
    "\n",
    "circuit.x(qreg_q[0])\n",
    "circuit.h(qreg_q[4])\n",
    "circuit.h(qreg_q[5])\n",
    "circuit.h(qreg_q[6])\n",
    "circuit.cswap(qreg_q[4], qreg_q[0], qreg_q[1])\n",
    "circuit.cswap(qreg_q[4], qreg_q[1], qreg_q[2])\n",
    "circuit.cswap(qreg_q[4], qreg_q[2], qreg_q[3])\n",
    "circuit.x(qreg_q[0])\n",
    "circuit.x(qreg_q[1])\n",
    "circuit.x(qreg_q[2])\n",
    "circuit.x(qreg_q[3])\n",
    "circuit.cswap(qreg_q[5], qreg_q[0], qreg_q[1])\n",
    "circuit.x(qreg_q[0])\n",
    "circuit.cswap(qreg_q[5], qreg_q[1], qreg_q[2])\n",
    "circuit.x(qreg_q[1])\n",
    "circuit.cswap(qreg_q[5], qreg_q[2], qreg_q[3])\n",
    "circuit.x(qreg_q[2])\n",
    "circuit.x(qreg_q[3])\n",
    "circuit.cswap(qreg_q[5], qreg_q[0], qreg_q[1])\n",
    "circuit.x(qreg_q[0])\n",
    "circuit.cswap(qreg_q[5], qreg_q[1], qreg_q[2])\n",
    "circuit.x(qreg_q[1])\n",
    "circuit.cswap(qreg_q[5], qreg_q[2], qreg_q[3])\n",
    "circuit.x(qreg_q[2])\n",
    "circuit.x(qreg_q[3])\n",
    "circuit.cswap(qreg_q[6], qreg_q[0], qreg_q[1])\n",
    "circuit.x(qreg_q[0])\n",
    "circuit.cswap(qreg_q[6], qreg_q[1], qreg_q[2])\n",
    "circuit.x(qreg_q[1])\n",
    "circuit.cswap(qreg_q[6], qreg_q[2], qreg_q[3])\n",
    "circuit.x(qreg_q[2])\n",
    "circuit.x(qreg_q[3])\n",
    "circuit.cswap(qreg_q[6], qreg_q[0], qreg_q[1])\n",
    "circuit.x(qreg_q[0])\n",
    "circuit.cswap(qreg_q[6], qreg_q[1], qreg_q[2])\n",
    "circuit.x(qreg_q[1])\n",
    "circuit.cswap(qreg_q[6], qreg_q[2], qreg_q[3])\n",
    "circuit.x(qreg_q[2])\n",
    "circuit.x(qreg_q[3])\n",
    "circuit.cswap(qreg_q[6], qreg_q[0], qreg_q[1])\n",
    "circuit.x(qreg_q[0])\n",
    "circuit.cswap(qreg_q[6], qreg_q[1], qreg_q[2])\n",
    "circuit.x(qreg_q[1])\n",
    "circuit.cswap(qreg_q[6], qreg_q[2], qreg_q[3])\n",
    "circuit.x(qreg_q[2])\n",
    "circuit.x(qreg_q[3])\n",
    "circuit.cswap(qreg_q[6], qreg_q[0], qreg_q[1])\n",
    "circuit.x(qreg_q[0])\n",
    "circuit.cswap(qreg_q[6], qreg_q[1], qreg_q[2])\n",
    "circuit.x(qreg_q[1])\n",
    "circuit.cswap(qreg_q[6], qreg_q[2], qreg_q[3])\n",
    "circuit.x(qreg_q[2])\n",
    "circuit.x(qreg_q[3])\n",
    "circuit.swap(qreg_q[4], qreg_q[6])\n",
    "circuit.h(qreg_q[4])\n",
    "circuit.cp(-pi / 2, qreg_q[4], qreg_q[5])\n",
    "circuit.h(qreg_q[5])\n",
    "circuit.cp(-pi / 4, qreg_q[4], qreg_q[6])\n",
    "circuit.cp(-pi / 2, qreg_q[5], qreg_q[6])\n",
    "circuit.h(qreg_q[6])\n",
    "circuit.measure(qreg_q[6], creg_c[2])\n",
    "circuit.measure(qreg_q[5], creg_c[1])\n",
    "circuit.measure(qreg_q[4], creg_c[0])\n",
    "# @columns [0,0,0,0,1,2,3,4,4,4,4,5,6,6,7,7,8,8,9,10,10,11,11,12,12,13,14,14,15,15,16,16,17,18,18,19,19,20,20,21,22,22,23,23,24,24,25,26,26,27,27,28,28,29,30,31,32,33,35,36,37,38,39]"
   ]
  },
  {
   "cell_type": "code",
   "execution_count": 16,
   "metadata": {},
   "outputs": [
    {
     "data": {
      "image/png": "[encoded data removed]",
      "text/plain": [
       "<Figure size 640x480 with 1 Axes>"
      ]
     },
     "execution_count": 16,
     "metadata": {},
     "output_type": "execute_result"
    }
   ],
   "source": [
    "from qiskit import transpile\n",
    "from qiskit.visualization import plot_histogram\n",
    "from qiskit_aer import AerSimulator\n",
    "\n",
    "\n",
    "simulator = AerSimulator()\n",
    "circ = transpile(circuit, simulator)\n",
    "# Run and get counts \n",
    "result = simulator.run(circ).result()\n",
    "counts = result.get_counts(circ)\n",
    "\n",
    "plot_histogram(counts)"
   ]
  },
  {
   "cell_type": "code",
   "execution_count": 19,
   "metadata": {},
   "outputs": [
    {
     "data": {
      "text/plain": [
       "Result(backend_name='aer_simulator', backend_version='0.14.1', qobj_id='', job_id='43b7899c-eca2-40e3-b724-ad4932199b8f', success=True, results=[ExperimentResult(shots=1024, success=True, meas_level=2, data=ExperimentResultData(counts={'0x0': 252, '0x6': 273, '0x2': 248, '0x4': 251}), header=QobjExperimentHeader(creg_sizes=[['c', 3]], global_phase=0.0, memory_slots=3, n_qubits=7, name='circuit-178', qreg_sizes=[['q', 7]], metadata={}), status=DONE, seed_simulator=4203708209, metadata={'batched_shots_optimization': False, 'required_memory_mb': 1, 'method': 'statevector', 'active_input_qubits': [0, 1, 2, 3, 4, 5, 6], 'device': 'CPU', 'remapped_qubits': False, 'num_qubits': 7, 'num_clbits': 3, 'time_taken': 0.0026104, 'sample_measure_time': 0.0004267, 'input_qubit_map': [[0, 0], [1, 1], [2, 2], [3, 3], [4, 4], [5, 5], [6, 6]], 'max_memory_mb': 32375, 'measure_sampling': True, 'noise': 'ideal', 'parallel_shots': 1, 'parallel_state_update': 20, 'runtime_parameter_bind': False, 'num_bind_params': 1, 'fusion': {'enabled': True, 'threshold': 14, 'max_fused_qubits': 5, 'applied': False}}, time_taken=0.0026104)], date=2024-08-15T15:57:22.795609, status=COMPLETED, header=None, metadata={'omp_enabled': True, 'parallel_experiments': 1, 'max_memory_mb': 32375, 'max_gpu_memory_mb': 0, 'time_taken_execute': 0.0027804, 'time_taken_parameter_binding': 2.61e-05}, time_taken=0.004000663757324219)"
      ]
     },
     "execution_count": 19,
     "metadata": {},
     "output_type": "execute_result"
    }
   ],
   "source": [
    "result"
   ]
  }
 ],
 "metadata": {
  "kernelspec": {
   "display_name": "Python 3 (ipykernel)",
   "language": "python",
   "name": "python3"
  },
  "language_info": {
   "codemirror_mode": {
    "name": "ipython",
    "version": 3
   },
   "file_extension": ".py",
   "mimetype": "text/x-python",
   "name": "python",
   "nbconvert_exporter": "python",
   "pygments_lexer": "ipython3",
   "version": "3.12.3"
  }
 },
 "nbformat": 4,
 "nbformat_minor": 2
}
