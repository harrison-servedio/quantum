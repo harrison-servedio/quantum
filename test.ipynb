{
 "cells": [
  {
   "cell_type": "code",
   "execution_count": 2,
   "metadata": {},
   "outputs": [],
   "source": [
    "from qiskit import transpile\n",
    "from qiskit.visualization import plot_histogram\n",
    "from qiskit_aer import AerSimulator\n",
    "from qiskit import QuantumRegister, ClassicalRegister, QuantumCircuit"
   ]
  },
  {
   "cell_type": "code",
   "execution_count": 15,
   "metadata": {},
   "outputs": [
    {
     "data": {
      "text/plain": [
       "<qiskit.circuit.instructionset.InstructionSet at 0x1eef17aada0>"
      ]
     },
     "execution_count": 15,
     "metadata": {},
     "output_type": "execute_result"
    }
   ],
   "source": [
    "from qiskit import QuantumRegister, ClassicalRegister, QuantumCircuit\n",
    "from numpy import pi\n",
    "\n",
    "qreg_q = QuantumRegister(5, 'q')\n",
    "creg_c = ClassicalRegister(2, 'c')\n",
    "circuit = QuantumCircuit(qreg_q, creg_c)\n",
    "\n",
    "circuit.h(qreg_q[0])\n",
    "circuit.h(qreg_q[1])\n",
    "circuit.x(qreg_q[2])\n",
    "circuit.ccx(qreg_q[0], qreg_q[2], qreg_q[4])\n",
    "circuit.cx(qreg_q[0], qreg_q[2])\n",
    "circuit.h(qreg_q[0])\n",
    "circuit.cx(qreg_q[4], qreg_q[1])\n",
    "circuit.cx(qreg_q[1], qreg_q[3])\n",
    "circuit.ccx(qreg_q[3], qreg_q[2], qreg_q[0])\n",
    "circuit.h(qreg_q[0])\n",
    "circuit.ccx(qreg_q[3], qreg_q[2], qreg_q[0])\n",
    "circuit.h(qreg_q[0])\n",
    "circuit.ccx(qreg_q[3], qreg_q[2], qreg_q[0])\n",
    "circuit.h(qreg_q[0])\n",
    "circuit.ccx(qreg_q[3], qreg_q[2], qreg_q[0])\n",
    "circuit.cx(qreg_q[1], qreg_q[3])\n",
    "circuit.cx(qreg_q[4], qreg_q[1])\n",
    "circuit.cx(qreg_q[0], qreg_q[2])\n",
    "circuit.ccx(qreg_q[0], qreg_q[2], qreg_q[4])\n",
    "circuit.h(qreg_q[0])\n",
    "circuit.h(qreg_q[1])\n",
    "circuit.x(qreg_q[0])\n",
    "circuit.x(qreg_q[1])\n",
    "circuit.cz(qreg_q[0], qreg_q[1])\n",
    "circuit.x(qreg_q[0])\n",
    "circuit.x(qreg_q[1])\n",
    "circuit.h(qreg_q[0])\n",
    "circuit.h(qreg_q[1])\n",
    "circuit.measure(qreg_q[0], creg_c[0])\n",
    "circuit.measure(qreg_q[1], creg_c[1])\n",
    "# @columns [0,0,0,1,2,4,4,5,6,7,8,9,10,11,12,13,14,15,16,17,17,18,18,19,20,20,21,21,22,23]"
   ]
  },
  {
   "cell_type": "code",
   "execution_count": 16,
   "metadata": {},
   "outputs": [
    {
     "data": {
      "image/png": "[encoded data removed]",
      "text/plain": [
       "<Figure size 640x480 with 1 Axes>"
      ]
     },
     "execution_count": 16,
     "metadata": {},
     "output_type": "execute_result"
    }
   ],
   "source": [
    "from qiskit import transpile\n",
    "from qiskit.visualization import plot_histogram\n",
    "from qiskit_aer import AerSimulator\n",
    "\n",
    "\n",
    "simulator = AerSimulator()\n",
    "circ = transpile(circuit, simulator)\n",
    "# Run and get counts \n",
    "result = simulator.run(circ).result()\n",
    "counts = result.get_counts(circ)\n",
    "plot_histogram(counts)"
   ]
  }
 ],
 "metadata": {
  "kernelspec": {
   "display_name": "Python 3 (ipykernel)",
   "language": "python",
   "name": "python3"
  },
  "language_info": {
   "codemirror_mode": {
    "name": "ipython",
    "version": 3
   },
   "file_extension": ".py",
   "mimetype": "text/x-python",
   "name": "python",
   "nbconvert_exporter": "python",
   "pygments_lexer": "ipython3",
   "version": "3.12.3"
  }
 },
 "nbformat": 4,
 "nbformat_minor": 2
}
